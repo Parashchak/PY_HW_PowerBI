{
 "cells": [
  {
   "cell_type": "code",
   "execution_count": 2,
   "metadata": {},
   "outputs": [],
   "source": [
    "import requests\n",
    "import os\n",
    "from collections import Counter, defaultdict\n",
    "from itertools import chain, combinations"
   ]
  },
  {
   "cell_type": "code",
   "execution_count": 2,
   "metadata": {},
   "outputs": [],
   "source": [
    "def download_document(file_name, document_url):\n",
    "\n",
    "   if os.path.exists(file_name):\n",
    "\n",
    "       pass\n",
    "\n",
    "   else:\n",
    "\n",
    "       response = requests.get(document_url)\n",
    "\n",
    "       if response.status_code == 200:\n",
    "\n",
    "           with open(file_name, 'wb') as f:\n",
    "\n",
    "               f.write(response.content)\n",
    "\n",
    "       else:\n",
    "\n",
    "           print(f'Failed to download the document. Status code: {response.status_code}')"
   ]
  },
  {
   "cell_type": "code",
   "execution_count": 3,
   "metadata": {},
   "outputs": [],
   "source": [
    "file_name = 'orders.txt'\n",
    "\n",
    "document_url = 'https://drive.google.com/uc?id=1IOPTVq2ooQfZRkF3rAjGkTjRtbotG7FF'\n",
    "\n",
    "download_document(file_name, document_url)"
   ]
  },
  {
   "cell_type": "code",
   "execution_count": 8,
   "metadata": {},
   "outputs": [],
   "source": [
    "def read_orders(filename):\n",
    "    with open(filename, 'r', encoding='utf-8') as file:\n",
    "        orders = file.read().split('\\n\\n')\n",
    "        orders = [order.split('@@@') for order in orders]\n",
    "    return orders\n",
    "\n",
    "def count_products(orders):\n",
    "    product_count = Counter(chain.from_iterable(orders))\n",
    "    return product_count\n",
    "\n",
    "def calculate_support(orders, product1, product2):\n",
    "    support_count = sum(1 for order in orders if product1 in order and product2 in order)\n",
    "    support = support_count / len(orders)\n",
    "    return support\n",
    "\n",
    "def generate_association_rules(orders, min_confidence, min_support):\n",
    "    product_count = count_products(orders)\n",
    "\n",
    "    for order in orders:\n",
    "        for product1, product2 in combinations(order, 2):\n",
    "            support = calculate_support(orders, product1, product2)\n",
    "            if support >= min_support:\n",
    "                confidence1 = support / product_count[product1]\n",
    "                confidence2 = support / product_count[product2]\n",
    "\n",
    "                if confidence1 >= min_confidence:\n",
    "                    print(f\"{product1} => {product2} ({confidence1:.2f}% confidence), {int(support*len(orders))} support\")\n",
    "                if confidence2 >= min_confidence:\n",
    "                    print(f\"{product2} => {product1} ({confidence2:.2f}% confidence), {int(support*len(orders))} support\")"
   ]
  },
  {
   "cell_type": "code",
   "execution_count": 5,
   "metadata": {},
   "outputs": [],
   "source": [
    "orders = read_orders('orders.txt')\n",
    "min_confidence = 0.45\n",
    "min_support = 0.15"
   ]
  },
  {
   "cell_type": "code",
   "execution_count": null,
   "metadata": {},
   "outputs": [],
   "source": [
    "generate_association_rules(orders, min_confidence, min_support)"
   ]
  },
  {
   "cell_type": "code",
   "execution_count": null,
   "metadata": {},
   "outputs": [],
   "source": [
    "import requests\n",
    "import os\n",
    "from collections import defaultdict\n",
    "from itertools import chain, combinations\n",
    "\n",
    "def download_document(file_name, document_url):\n",
    "    if os.path.exists(file_name):\n",
    "        pass\n",
    "    else:\n",
    "        response = requests.get(document_url)\n",
    "        if response.status_code == 200:\n",
    "            with open(file_name, 'wb') as f:\n",
    "                f.write(response.content)\n",
    "        else:\n",
    "            print(f'Failed to download the document. Status code: {response.status_code}')\n",
    "\n",
    "def read_orders(filename):\n",
    "    with open(filename, 'r', encoding='utf-8') as file:\n",
    "        orders = file.read().split('\\n\\n')\n",
    "        orders = [order.split('@@@') for order in orders]\n",
    "    return orders\n",
    "\n",
    "def count_products(orders):\n",
    "    product_count = defaultdict(int)  # defaultdict для автоматичного створення значення за замовчуванням 0\n",
    "    for product in chain.from_iterable(orders):\n",
    "        product_count[product] += 1\n",
    "    return product_count\n",
    "\n",
    "def calculate_support(orders, product1, product2):\n",
    "    support_count = sum(1 for order in orders if product1 in order and product2 in order)\n",
    "    support = support_count / len(orders)\n",
    "    return support\n",
    "\n",
    "def generate_association_rules(orders, min_confidence, min_support):\n",
    "    product_count = count_products(orders)\n",
    "    for order in orders:\n",
    "        for product1, product2 in combinations(order, 2):\n",
    "            support = calculate_support(orders, product1, product2)\n",
    "            if support >= min_support:\n",
    "                confidence1 = support / product_count[product1]\n",
    "                confidence2 = support / product_count[product2]\n",
    "\n",
    "                if confidence1 >= min_confidence:\n",
    "                    print(f\"{product1} => {product2} ({confidence1:.2f}% confidence), {int(support*len(orders))} support\")\n",
    "                if confidence2 >= min_confidence:\n",
    "                    print(f\"{product2} => {product1} ({confidence2:.2f}% confidence), {int(support*len(orders))} support\")\n",
    "\n",
    "file_name = 'orders.txt'\n",
    "document_url = 'https://drive.google.com/uc?id=1IOPTVq2ooQfZRkF3rAjGkTjRtbotG7FF'\n",
    "\n",
    "download_document(file_name, document_url)\n",
    "\n",
    "orders = read_orders(file_name)\n",
    "min_confidence = 0.45\n",
    "min_support = 0.15\n",
    "\n",
    "generate_association_rules(orders, min_confidence, min_support)\n"
   ]
  }
 ],
 "metadata": {
  "kernelspec": {
   "display_name": "base",
   "language": "python",
   "name": "python3"
  },
  "language_info": {
   "codemirror_mode": {
    "name": "ipython",
    "version": 3
   },
   "file_extension": ".py",
   "mimetype": "text/x-python",
   "name": "python",
   "nbconvert_exporter": "python",
   "pygments_lexer": "ipython3",
   "version": "3.11.7"
  }
 },
 "nbformat": 4,
 "nbformat_minor": 2
}
