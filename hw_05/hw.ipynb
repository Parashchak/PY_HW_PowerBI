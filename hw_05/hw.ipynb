{
 "cells": [
  {
   "cell_type": "code",
   "execution_count": 15,
   "metadata": {},
   "outputs": [],
   "source": [
    "import requests\n",
    "import os\n",
    "from collections import Counter, defaultdict\n",
    "from itertools import chain, combinations"
   ]
  },
  {
   "cell_type": "code",
   "execution_count": 16,
   "metadata": {},
   "outputs": [],
   "source": [
    "def download_document(file_name, document_url):\n",
    "\n",
    "   if os.path.exists(file_name):\n",
    "\n",
    "       pass\n",
    "\n",
    "   else:\n",
    "\n",
    "       response = requests.get(document_url)\n",
    "\n",
    "       if response.status_code == 200:\n",
    "\n",
    "           with open(file_name, 'wb') as f:\n",
    "\n",
    "               f.write(response.content)\n",
    "\n",
    "       else:\n",
    "\n",
    "           print(f'Failed to download the document. Status code: {response.status_code}')"
   ]
  },
  {
   "cell_type": "code",
   "execution_count": 17,
   "metadata": {},
   "outputs": [],
   "source": [
    "file_name = 'orders.txt'\n",
    "\n",
    "document_url = 'https://drive.google.com/uc?id=1IOPTVq2ooQfZRkF3rAjGkTjRtbotG7FF'\n",
    "\n",
    "download_document(file_name, document_url)"
   ]
  },
  {
   "cell_type": "code",
   "execution_count": 18,
   "metadata": {},
   "outputs": [],
   "source": [
    "def read_orders(filename):\n",
    "    with open(filename, 'r', encoding='utf-8') as file:\n",
    "        orders = file.read().split('\\n\\n')\n",
    "        orders = [order.split('@@@') for order in orders]\n",
    "    return orders"
   ]
  },
  {
   "cell_type": "code",
   "execution_count": 19,
   "metadata": {},
   "outputs": [],
   "source": [
    "def count_products(orders):\n",
    "    product_count = Counter(chain.from_iterable(orders))\n",
    "    return product_count"
   ]
  },
  {
   "cell_type": "code",
   "execution_count": 20,
   "metadata": {},
   "outputs": [],
   "source": [
    "def calculate_support(orders, product1, product2):\n",
    "    support_count = sum(1 for order in orders if product1 in order and product2 in order)\n",
    "    support = support_count / len(orders)\n",
    "    return support"
   ]
  },
  {
   "cell_type": "code",
   "execution_count": 21,
   "metadata": {},
   "outputs": [],
   "source": [
    "def generate_association_rules(orders, min_confidence, min_support):\n",
    "    product_count = count_products(orders)\n",
    "    association_rules = []\n",
    "\n",
    "    for order in orders:\n",
    "        for product1, product2 in combinations(order, 2):\n",
    "            support = calculate_support(orders, product1, product2)\n",
    "            if support >= min_support:\n",
    "                confidence1 = support / product_count[product1]\n",
    "                confidence2 = support / product_count[product2]\n",
    "\n",
    "                if confidence1 >= min_confidence:\n",
    "                    association_rules.append((product1, product2, support, confidence1))\n",
    "                if confidence2 >= min_confidence:\n",
    "                    association_rules.append((product2, product1, support, confidence2))\n",
    "\n",
    "    for rule in association_rules:\n",
    "        print(f\"Association Rule: {rule[0]} -> {rule[1]}, Support: {rule[2]}, Confidence: {rule[3]}\")"
   ]
  },
  {
   "cell_type": "code",
   "execution_count": 23,
   "metadata": {},
   "outputs": [
    {
     "ename": "KeyboardInterrupt",
     "evalue": "",
     "output_type": "error",
     "traceback": [
      "\u001b[0;31m---------------------------------------------------------------------------\u001b[0m",
      "\u001b[0;31mKeyboardInterrupt\u001b[0m                         Traceback (most recent call last)",
      "\u001b[1;32m/Users/vasylparashchak/Desktop/Python_BI/PY_HW_PowerBI/hw_05/hw.ipynb Cell 8\u001b[0m line \u001b[0;36m4\n\u001b[1;32m      <a href='vscode-notebook-cell:/Users/vasylparashchak/Desktop/Python_BI/PY_HW_PowerBI/hw_05/hw.ipynb#X11sZmlsZQ%3D%3D?line=1'>2</a>\u001b[0m min_confidence \u001b[39m=\u001b[39m \u001b[39m0.5\u001b[39m\n\u001b[1;32m      <a href='vscode-notebook-cell:/Users/vasylparashchak/Desktop/Python_BI/PY_HW_PowerBI/hw_05/hw.ipynb#X11sZmlsZQ%3D%3D?line=2'>3</a>\u001b[0m min_support \u001b[39m=\u001b[39m \u001b[39m0.2\u001b[39m\n\u001b[0;32m----> <a href='vscode-notebook-cell:/Users/vasylparashchak/Desktop/Python_BI/PY_HW_PowerBI/hw_05/hw.ipynb#X11sZmlsZQ%3D%3D?line=3'>4</a>\u001b[0m generate_association_rules(orders, min_confidence, min_support)\n",
      "\u001b[1;32m/Users/vasylparashchak/Desktop/Python_BI/PY_HW_PowerBI/hw_05/hw.ipynb Cell 8\u001b[0m line \u001b[0;36m7\n\u001b[1;32m      <a href='vscode-notebook-cell:/Users/vasylparashchak/Desktop/Python_BI/PY_HW_PowerBI/hw_05/hw.ipynb#X11sZmlsZQ%3D%3D?line=4'>5</a>\u001b[0m \u001b[39mfor\u001b[39;00m order \u001b[39min\u001b[39;00m orders:\n\u001b[1;32m      <a href='vscode-notebook-cell:/Users/vasylparashchak/Desktop/Python_BI/PY_HW_PowerBI/hw_05/hw.ipynb#X11sZmlsZQ%3D%3D?line=5'>6</a>\u001b[0m     \u001b[39mfor\u001b[39;00m product1, product2 \u001b[39min\u001b[39;00m combinations(order, \u001b[39m2\u001b[39m):\n\u001b[0;32m----> <a href='vscode-notebook-cell:/Users/vasylparashchak/Desktop/Python_BI/PY_HW_PowerBI/hw_05/hw.ipynb#X11sZmlsZQ%3D%3D?line=6'>7</a>\u001b[0m         support \u001b[39m=\u001b[39m calculate_support(orders, product1, product2)\n\u001b[1;32m      <a href='vscode-notebook-cell:/Users/vasylparashchak/Desktop/Python_BI/PY_HW_PowerBI/hw_05/hw.ipynb#X11sZmlsZQ%3D%3D?line=7'>8</a>\u001b[0m         \u001b[39mif\u001b[39;00m support \u001b[39m>\u001b[39m\u001b[39m=\u001b[39m min_support:\n\u001b[1;32m      <a href='vscode-notebook-cell:/Users/vasylparashchak/Desktop/Python_BI/PY_HW_PowerBI/hw_05/hw.ipynb#X11sZmlsZQ%3D%3D?line=8'>9</a>\u001b[0m             confidence1 \u001b[39m=\u001b[39m support \u001b[39m/\u001b[39m product_count[product1]\n",
      "\u001b[1;32m/Users/vasylparashchak/Desktop/Python_BI/PY_HW_PowerBI/hw_05/hw.ipynb Cell 8\u001b[0m line \u001b[0;36m2\n\u001b[1;32m      <a href='vscode-notebook-cell:/Users/vasylparashchak/Desktop/Python_BI/PY_HW_PowerBI/hw_05/hw.ipynb#X11sZmlsZQ%3D%3D?line=0'>1</a>\u001b[0m \u001b[39mdef\u001b[39;00m \u001b[39mcalculate_support\u001b[39m(orders, product1, product2):\n\u001b[0;32m----> <a href='vscode-notebook-cell:/Users/vasylparashchak/Desktop/Python_BI/PY_HW_PowerBI/hw_05/hw.ipynb#X11sZmlsZQ%3D%3D?line=1'>2</a>\u001b[0m     support_count \u001b[39m=\u001b[39m \u001b[39msum\u001b[39m(\u001b[39m1\u001b[39m \u001b[39mfor\u001b[39;00m order \u001b[39min\u001b[39;00m orders \u001b[39mif\u001b[39;00m product1 \u001b[39min\u001b[39;00m order \u001b[39mand\u001b[39;00m product2 \u001b[39min\u001b[39;00m order)\n\u001b[1;32m      <a href='vscode-notebook-cell:/Users/vasylparashchak/Desktop/Python_BI/PY_HW_PowerBI/hw_05/hw.ipynb#X11sZmlsZQ%3D%3D?line=2'>3</a>\u001b[0m     support \u001b[39m=\u001b[39m support_count \u001b[39m/\u001b[39m \u001b[39mlen\u001b[39m(orders)\n\u001b[1;32m      <a href='vscode-notebook-cell:/Users/vasylparashchak/Desktop/Python_BI/PY_HW_PowerBI/hw_05/hw.ipynb#X11sZmlsZQ%3D%3D?line=3'>4</a>\u001b[0m     \u001b[39mreturn\u001b[39;00m support\n",
      "\u001b[1;32m/Users/vasylparashchak/Desktop/Python_BI/PY_HW_PowerBI/hw_05/hw.ipynb Cell 8\u001b[0m line \u001b[0;36m2\n\u001b[1;32m      <a href='vscode-notebook-cell:/Users/vasylparashchak/Desktop/Python_BI/PY_HW_PowerBI/hw_05/hw.ipynb#X11sZmlsZQ%3D%3D?line=0'>1</a>\u001b[0m \u001b[39mdef\u001b[39;00m \u001b[39mcalculate_support\u001b[39m(orders, product1, product2):\n\u001b[0;32m----> <a href='vscode-notebook-cell:/Users/vasylparashchak/Desktop/Python_BI/PY_HW_PowerBI/hw_05/hw.ipynb#X11sZmlsZQ%3D%3D?line=1'>2</a>\u001b[0m     support_count \u001b[39m=\u001b[39m \u001b[39msum\u001b[39m(\u001b[39m1\u001b[39m \u001b[39mfor\u001b[39;00m order \u001b[39min\u001b[39;00m orders \u001b[39mif\u001b[39;00m product1 \u001b[39min\u001b[39;00m order \u001b[39mand\u001b[39;00m product2 \u001b[39min\u001b[39;00m order)\n\u001b[1;32m      <a href='vscode-notebook-cell:/Users/vasylparashchak/Desktop/Python_BI/PY_HW_PowerBI/hw_05/hw.ipynb#X11sZmlsZQ%3D%3D?line=2'>3</a>\u001b[0m     support \u001b[39m=\u001b[39m support_count \u001b[39m/\u001b[39m \u001b[39mlen\u001b[39m(orders)\n\u001b[1;32m      <a href='vscode-notebook-cell:/Users/vasylparashchak/Desktop/Python_BI/PY_HW_PowerBI/hw_05/hw.ipynb#X11sZmlsZQ%3D%3D?line=3'>4</a>\u001b[0m     \u001b[39mreturn\u001b[39;00m support\n",
      "\u001b[0;31mKeyboardInterrupt\u001b[0m: "
     ]
    }
   ],
   "source": [
    "orders = read_orders(file_name)\n",
    "min_confidence = 0.5\n",
    "min_support = 0.2\n",
    "generate_association_rules(orders, min_confidence, min_support)"
   ]
  }
 ],
 "metadata": {
  "kernelspec": {
   "display_name": "base",
   "language": "python",
   "name": "python3"
  },
  "language_info": {
   "codemirror_mode": {
    "name": "ipython",
    "version": 3
   },
   "file_extension": ".py",
   "mimetype": "text/x-python",
   "name": "python",
   "nbconvert_exporter": "python",
   "pygments_lexer": "ipython3",
   "version": "3.11.7"
  }
 },
 "nbformat": 4,
 "nbformat_minor": 2
}
